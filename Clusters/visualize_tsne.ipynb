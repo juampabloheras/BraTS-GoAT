{
 "cells": [
  {
   "cell_type": "code",
   "execution_count": 23,
   "metadata": {},
   "outputs": [
    {
     "ename": "ModuleNotFoundError",
     "evalue": "No module named 'cv2'",
     "output_type": "error",
     "traceback": [
      "\u001b[1;31m---------------------------------------------------------------------------\u001b[0m",
      "\u001b[1;31mModuleNotFoundError\u001b[0m                       Traceback (most recent call last)",
      "\u001b[1;32m<ipython-input-23-efeb3b1c5540>\u001b[0m in \u001b[0;36m<module>\u001b[1;34m\u001b[0m\n\u001b[0;32m      2\u001b[0m \u001b[1;32mimport\u001b[0m \u001b[0mmatplotlib\u001b[0m\u001b[1;33m.\u001b[0m\u001b[0mpyplot\u001b[0m \u001b[1;32mas\u001b[0m \u001b[0mplt\u001b[0m\u001b[1;33m\u001b[0m\u001b[1;33m\u001b[0m\u001b[0m\n\u001b[0;32m      3\u001b[0m \u001b[1;32mimport\u001b[0m \u001b[0mpickle\u001b[0m\u001b[1;33m\u001b[0m\u001b[1;33m\u001b[0m\u001b[0m\n\u001b[1;32m----> 4\u001b[1;33m \u001b[1;32mimport\u001b[0m \u001b[0mcvae_idec\u001b[0m\u001b[1;33m.\u001b[0m\u001b[0mIDEC\u001b[0m\u001b[1;33m\u001b[0m\u001b[1;33m\u001b[0m\u001b[0m\n\u001b[0m\u001b[0;32m      5\u001b[0m \u001b[0mtsne_0\u001b[0m \u001b[1;33m=\u001b[0m \u001b[0mnp\u001b[0m\u001b[1;33m.\u001b[0m\u001b[0mload\u001b[0m\u001b[1;33m(\u001b[0m\u001b[1;34m'./TSNE_images/0.npy'\u001b[0m\u001b[1;33m)\u001b[0m\u001b[1;33m\u001b[0m\u001b[1;33m\u001b[0m\u001b[0m\n\u001b[0;32m      6\u001b[0m \u001b[0mtsne_5\u001b[0m \u001b[1;33m=\u001b[0m \u001b[0mnp\u001b[0m\u001b[1;33m.\u001b[0m\u001b[0mload\u001b[0m\u001b[1;33m(\u001b[0m\u001b[1;34m'./TSNE_images/5.npy'\u001b[0m\u001b[1;33m)\u001b[0m\u001b[1;33m\u001b[0m\u001b[1;33m\u001b[0m\u001b[0m\n",
      "\u001b[1;32mc:\\Users\\jonat\\CSE 547\\BraTS-GoAT\\Clusters\\cvae_idec.py\u001b[0m in \u001b[0;36m<module>\u001b[1;34m\u001b[0m\n\u001b[0;32m      7\u001b[0m \u001b[1;32mimport\u001b[0m \u001b[0mnumpy\u001b[0m \u001b[1;32mas\u001b[0m \u001b[0mnp\u001b[0m\u001b[1;33m\u001b[0m\u001b[1;33m\u001b[0m\u001b[0m\n\u001b[0;32m      8\u001b[0m \u001b[1;32mimport\u001b[0m \u001b[0mpandas\u001b[0m \u001b[1;32mas\u001b[0m \u001b[0mpd\u001b[0m\u001b[1;33m\u001b[0m\u001b[1;33m\u001b[0m\u001b[0m\n\u001b[1;32m----> 9\u001b[1;33m \u001b[1;32mimport\u001b[0m \u001b[0mcv2\u001b[0m\u001b[1;33m\u001b[0m\u001b[1;33m\u001b[0m\u001b[0m\n\u001b[0m\u001b[0;32m     10\u001b[0m \u001b[1;32mimport\u001b[0m \u001b[0mmatplotlib\u001b[0m\u001b[1;33m.\u001b[0m\u001b[0mpyplot\u001b[0m \u001b[1;32mas\u001b[0m \u001b[0mplt\u001b[0m\u001b[1;33m\u001b[0m\u001b[1;33m\u001b[0m\u001b[0m\n\u001b[0;32m     11\u001b[0m \u001b[1;32mimport\u001b[0m \u001b[0mmatplotlib\u001b[0m\u001b[1;33m.\u001b[0m\u001b[0mstyle\u001b[0m \u001b[1;32mas\u001b[0m \u001b[0mstyle\u001b[0m\u001b[1;33m\u001b[0m\u001b[1;33m\u001b[0m\u001b[0m\n",
      "\u001b[1;31mModuleNotFoundError\u001b[0m: No module named 'cv2'"
     ]
    }
   ],
   "source": [
    "import numpy as np\n",
    "import matplotlib.pyplot as plt\n",
    "import pickle\n",
    "import cvae_idec.IDEC\n",
    "tsne_0 = np.load('./TSNE_images/0.npy')\n",
    "tsne_5 = np.load('./TSNE_images/5.npy')\n",
    "tsne_10 = np.load('./TSNE_images/10.npy')\n",
    "tsne_final = np.load('./TSNE_images/final.npy')\n",
    "\n",
    "fig, axs = plt.subplots(2, 2, figsize=(10, 8))\n",
    "axs[0,0].scatter(tsne_0[:,0], tsne_0[:,1])\n",
    "axs[0,1].scatter(tsne_5[:,0], tsne_5[:,1])\n",
    "axs[1,0].scatter(tsne_10[:,0], tsne_10[:,1])\n",
    "axs[1,1].scatter(tsne_final[:,0], tsne_final[:,1])"
   ]
  },
  {
   "cell_type": "code",
   "execution_count": 44,
   "metadata": {},
   "outputs": [],
   "source": [
    "import torch\n",
    "import torch.nn as nn\n",
    "import torch.nn.functional as F\n",
    "from torch.nn.parameter import Parameter\n",
    "from torch.optim import Adam\n",
    "from torch.utils.data import DataLoader\n",
    "\n",
    "from ae.vae_trainer import VAETrainer\n",
    "#from ae.cvae_glau import CVAE\n",
    "from ae.cvae_cifar import CVAE\n",
    "#from ae.cvae import CVAE\n",
    "from ae.vae import VAE\n",
    "from torch.utils.data import Dataset\n",
    "\n",
    "\n",
    "class IDEC(nn.Module):\n",
    "\n",
    "    def __init__(self,\n",
    "                 n_input,\n",
    "                 n_z,\n",
    "                 n_clusters,\n",
    "                 alpha=1,\n",
    "                 pretrain_path='saved_models/VAE/cvae_cifar10.pkl'):\n",
    "        super(IDEC, self).__init__()\n",
    "        self.alpha = 1.0\n",
    "        self.pretrain_path = pretrain_path\n",
    "\n",
    "        self.ae = CVAE(in_shape=n_input, n_z=n_z)\n",
    "        # cluster layer\n",
    "        self.cluster_layer = Parameter(torch.Tensor(n_clusters, n_z))\n",
    "        torch.nn.init.xavier_normal_(self.cluster_layer.data)\n",
    "        \n",
    "    ### Pretrain AE #################################################################\n",
    "    def pretrain(self, path=''):\n",
    "        if path == '':\n",
    "            pretrain_ae(self.ae)\n",
    "        # load pretrain weights\n",
    "        else:\n",
    "            self.ae.load_state_dict(torch.load(self.pretrain_path))\n",
    "            print('load pretrained ae from', path)\n",
    "\n",
    "    def forward(self, x):\n",
    "        x_bar, z, _, _ = self.ae(x)     \n",
    "        # cluster\n",
    "        q = 1.0 / (1.0 + torch.sum(\n",
    "            torch.pow(z.unsqueeze(1) - self.cluster_layer, 2), 2) / self.alpha)\n",
    "        q = q.pow((self.alpha + 1.0) / 2.0)\n",
    "        q = (q.t() / torch.sum(q, 1)).t()\n",
    "\n",
    "        return x_bar, q\n",
    "    \n",
    "def load_brain(path='../brain_data.npz'):\n",
    "    f = np.load(path)\n",
    "    x, y = f['x_train'], f['y_train']\n",
    "    f.close()\n",
    "    \n",
    "    x = x.astype(np.float32)\n",
    "    x = np.transpose(x.data, (0, 1, 3, 2))\n",
    "    x = np.divide(x, 255.)\n",
    "    y = y.astype(np.int32)\n",
    "    print('Brain samples', x.shape, y.shape)\n",
    "    return x, y\n",
    "    \n",
    "class BrainDataset(Dataset):\n",
    "\n",
    "    def __init__(self):\n",
    "        self.x, self.y = load_brain()\n",
    "\n",
    "    def __len__(self):\n",
    "        return self.x.shape[0]\n",
    "\n",
    "    def __getitem__(self, idx):\n",
    "        return torch.from_numpy(np.array(self.x[idx])), torch.from_numpy(\n",
    "            np.array(self.y[idx])), torch.from_numpy(np.array(idx))\n"
   ]
  },
  {
   "cell_type": "code",
   "execution_count": 45,
   "metadata": {},
   "outputs": [
    {
     "name": "stdout",
     "output_type": "stream",
     "text": [
      "Brain samples (2251, 4, 128, 192) (2251, 192, 128)\n"
     ]
    }
   ],
   "source": [
    "n_clusters = 2\n",
    "n_z = 2\n",
    "batch_size = 16\n",
    "dataset = BrainDataset()\n",
    "n_input = dataset.x[0].shape\n",
    "\n",
    "model = IDEC(\n",
    "    n_input=n_input,\n",
    "    n_z=n_z,\n",
    "    n_clusters=n_clusters,\n",
    "    alpha=1.0)\n",
    "\n",
    "with open(\".pkl\", \"rb\") as fp:\n",
    "    newmodel.load_state_dict(pickle.load(fp))\n"
   ]
  }
 ],
 "metadata": {
  "kernelspec": {
   "display_name": "base",
   "language": "python",
   "name": "python3"
  },
  "language_info": {
   "codemirror_mode": {
    "name": "ipython",
    "version": 3
   },
   "file_extension": ".py",
   "mimetype": "text/x-python",
   "name": "python",
   "nbconvert_exporter": "python",
   "pygments_lexer": "ipython3",
   "version": "3.8.5"
  }
 },
 "nbformat": 4,
 "nbformat_minor": 2
}
