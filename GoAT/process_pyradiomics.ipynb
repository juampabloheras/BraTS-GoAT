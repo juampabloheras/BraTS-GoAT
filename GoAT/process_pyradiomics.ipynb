{
 "cells": [
  {
   "cell_type": "code",
   "execution_count": 1,
   "metadata": {},
   "outputs": [],
   "source": [
    "import matplotlib.pyplot as plt \n",
    "import numpy as np\n",
    "import pandas as pd"
   ]
  },
  {
   "cell_type": "code",
   "execution_count": null,
   "metadata": {},
   "outputs": [],
   "source": []
  },
  {
   "cell_type": "code",
   "execution_count": 10,
   "metadata": {},
   "outputs": [
    {
     "name": "stdout",
     "output_type": "stream",
     "text": [
      "Index(['Image', 'Mask', 'diagnostics_Image-original_Hash',\n",
      "       'diagnostics_Image-original_Mean', 'diagnostics_Image-original_Minimum',\n",
      "       'diagnostics_Image-original_Maximum', 'diagnostics_Mask-original_Hash',\n",
      "       'diagnostics_Mask-original_Spacing', 'diagnostics_Mask-original_Size',\n",
      "       'diagnostics_Mask-original_BoundingBox',\n",
      "       ...\n",
      "       'original_glszm_SmallAreaHighGrayLevelEmphasis',\n",
      "       'original_glszm_SmallAreaLowGrayLevelEmphasis',\n",
      "       'original_glszm_ZoneEntropy', 'original_glszm_ZonePercentage',\n",
      "       'original_glszm_ZoneVariance', 'original_ngtdm_Busyness',\n",
      "       'original_ngtdm_Coarseness', 'original_ngtdm_Complexity',\n",
      "       'original_ngtdm_Contrast', 'original_ngtdm_Strength'],\n",
      "      dtype='object', length=121)\n"
     ]
    }
   ],
   "source": [
    "# Load the CSV file into a DataFrame\n",
    "file_path = 'pyradiomics_results_cleaned.csv'  # Replace with the correct path\n",
    "df = pd.read_csv(file_path)\n",
    "\n",
    "# Drop rows where all elements are NaN\n",
    "df = df.dropna(how='all')\n",
    "\n",
    "# Optionally, drop rows based on NaN in specific columns\n",
    "# df = df.dropna(subset=['Column1', 'Column2'])  # Specify columns to check for NaN\n",
    "\n",
    "# Print the cleaned DataFrame\n",
    "# print(df.head())\n",
    "\n",
    "print(df.columns)\n",
    "# # Save the cleaned DataFrame back to CSV if needed\n",
    "# df.to_csv('/path/to/your/cleaned_pyradiomics_results.csv', index=False)\n"
   ]
  },
  {
   "cell_type": "code",
   "execution_count": null,
   "metadata": {},
   "outputs": [],
   "source": [
    "import pandas as pd\n",
    "import re\n",
    "\n",
    "# Load the Excel file\n",
    "df = pd.read_excel('pyradiomics_results_cleaned.csv', sheet_name='YourSheetName')  # Update the path and sheet name\n",
    "\n",
    "# Define a function to extract the subject number\n",
    "def extract_subject_number(path):\n",
    "    match = re.search(r'BraTS-GLI-(\\d+)', path)\n",
    "    return match.group(1) if match else None\n",
    "\n",
    "# Apply the function to the relevant column\n",
    "df['YourColumnName'] = df['YourColumnName'].apply(extract_subject_number)  # Update 'YourColumnName' to the name of your column\n",
    "\n",
    "# Write the results back to Excel\n",
    "df.to_excel('/path/to/your/modified_excel.xlsx', index=False)\n",
    "\n"
   ]
  },
  {
   "cell_type": "code",
   "execution_count": 2,
   "metadata": {},
   "outputs": [],
   "source": [
    "import pandas as pd\n",
    "import re\n",
    "\n",
    "# Load the CSV file\n",
    "df = pd.read_csv('pyradiomics_GoAT_results_cleaned.csv')  # Replace 'yourfile.csv' with your actual file name\n",
    "\n",
    "# Define a function to extract the subject number\n",
    "def extract_subject_number(path):\n",
    "    match = re.search(r'BraTS-GoAT-(\\d+)', path)\n",
    "    return match.group(1) if match else None\n",
    "\n",
    "# Assume the column with the paths is named 'PathColumn', replace with your actual column name\n",
    "df['ImageID'] = df['ImageID'].apply(extract_subject_number)\n",
    "\n",
    "# Write the results back to a new CSV file\n",
    "df.to_csv('pyradiomics_GoAT_results_cleaned.csv', index=False)\n"
   ]
  },
  {
   "cell_type": "code",
   "execution_count": 5,
   "metadata": {},
   "outputs": [],
   "source": [
    "# Clear empty rows and save image ids to list\n",
    "\n",
    "# Load the CSV file\n",
    "df = pd.read_csv('pyradiomics_GoAT_results_cleaned.csv')\n",
    "\n",
    "# Identify rows that are entirely empty (NaN across all columns)\n",
    "empty_rows = df[df.isnull().all(axis=1)]\n",
    "\n",
    "# List of ImageIDs for the empty rows\n",
    "empty_image_ids = empty_rows['ImageID'].dropna().tolist()\n",
    "\n",
    "# Save the list of ImageIDs to a new CSV file\n",
    "pd.DataFrame(empty_image_ids, columns=['ImageID']).to_csv('empty_image_ids.csv', index=False)\n"
   ]
  },
  {
   "cell_type": "code",
   "execution_count": 11,
   "metadata": {},
   "outputs": [],
   "source": [
    "df = pd.read_csv('pyradiomics_GoAT_results_cleaned.csv')\n",
    "\n",
    "# Print the column names to ensure correct reference\n",
    "# print(\"Columns in the dataframe:\", df.columns.tolist())\n",
    "\n",
    "# Identify rows where all columns except 'ImageID' are NaN\n",
    "condition = df.loc[:, df.columns != 'ImageID'].isnull().all(axis=1)\n",
    "empty_rows = df[condition]\n",
    "\n",
    "# Extract ImageIDs from these rows\n",
    "empty_image_ids = empty_rows['ImageID'].tolist()\n",
    "\n",
    "# Save the list of ImageIDs to a new CSV file\n",
    "pd.DataFrame(empty_image_ids, columns=['ImageID']).to_csv('empty_image_ids.csv', index=False)\n",
    "\n",
    "# Remove the identified rows from the DataFrame\n",
    "df_cleaned = df.drop(empty_rows.index)\n",
    "\n",
    "# Save the cleaned DataFrame back to CSV\n",
    "df_cleaned.to_csv('pyradiomics_GoAT_results_cleaned.csv')\n"
   ]
  },
  {
   "cell_type": "code",
   "execution_count": 9,
   "metadata": {},
   "outputs": [
    {
     "name": "stdout",
     "output_type": "stream",
     "text": [
      "0.31705150976909413\n"
     ]
    }
   ],
   "source": [
    "print(len(empty_image_ids)/2252)"
   ]
  }
 ],
 "metadata": {
  "kernelspec": {
   "display_name": "torch",
   "language": "python",
   "name": "python3"
  },
  "language_info": {
   "codemirror_mode": {
    "name": "ipython",
    "version": 3
   },
   "file_extension": ".py",
   "mimetype": "text/x-python",
   "name": "python",
   "nbconvert_exporter": "python",
   "pygments_lexer": "ipython3",
   "version": "3.11.5"
  }
 },
 "nbformat": 4,
 "nbformat_minor": 2
}
